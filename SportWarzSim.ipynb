{
 "cells": [
  {
   "cell_type": "code",
   "execution_count": null,
   "id": "4317a38e-1ee7-4057-ac23-2f7c5efe8907",
   "metadata": {},
   "outputs": [],
   "source": [
    "try:\n",
    "    import google.colab\n",
    "    !rm -rf /content/SportWarzSim\n",
    "    !git clone https://github.com/daltontf/SportWarzSim.git \n",
    "    %cd SportWarzSim\n",
    "except ImportError:\n",
    "    pass"
   ]
  },
  {
   "cell_type": "code",
   "execution_count": null,
   "id": "389732ec-df63-4deb-bb7c-588f5b23295a",
   "metadata": {},
   "outputs": [],
   "source": [
    "from sportwarz import load_counties_data\n",
    "\n",
    "(counties_geojson, co_data_frame) = load_counties_data()\n"
   ]
  },
  {
   "cell_type": "code",
   "execution_count": null,
   "id": "77878a56-706e-4e94-bb80-259de2872b22",
   "metadata": {},
   "outputs": [],
   "source": [
    "from sportwarz import add_teams_and_distances\n",
    "\n",
    "leagues = {\n",
    "    'NFL': { \"weight\": 0.9 },\n",
    "    'NBA': { \"weight\": 0.7 },\n",
    "    'MLB': { \"weight\": 0.6 },\n",
    "    'NHL': { \"weight\": 0.25 }, \n",
    "    'MLS': { \"weight\": 0.15 }\n",
    "}    \n",
    "\n",
    "add_teams_and_distances(leagues, co_data_frame)   "
   ]
  },
  {
   "cell_type": "code",
   "execution_count": null,
   "id": "16be4939-1c50-4f41-8de9-91734ecd2440",
   "metadata": {},
   "outputs": [],
   "source": [
    "from sportwarz import compute_shares\n",
    "        \n",
    "compute_shares(leagues, co_data_frame)  "
   ]
  },
  {
   "cell_type": "code",
   "execution_count": null,
   "id": "4825e31d-3e51-466c-9030-0d0d5252c20a",
   "metadata": {},
   "outputs": [],
   "source": [
    "from sportwarz import compute_output_dataframes\n",
    "\n",
    "compute_output_dataframes(leagues, co_data_frame)       "
   ]
  },
  {
   "cell_type": "code",
   "execution_count": null,
   "id": "4c7c7872-ebc3-4252-8a8d-5152b118eed2",
   "metadata": {},
   "outputs": [],
   "source": [
    "from sportwarz import reset_county_styles, heatmap_counties\n",
    "\n",
    "nhl_color_map = { \n",
    "    \"St. Louis Blues\": \"blue\",\n",
    "    \"Chicago Blackhawks\": \"black\",\n",
    "    \"Minnesota Wild\": \"darkgreen\",\n",
    "    \"Nashville Predators\": \"gold\",\n",
    "    \"Detroit Red Wings\": \"red\",\n",
    "    \"Dallas Stars\": \"limegreen\",\n",
    "    \"Colorado Avalanche\": \"maroon\",\n",
    "    \"Columbus Blue Jackets\": \"midnightblue\",\n",
    "    \"Pittsburgh Penguins\": \"gold\",\n",
    "    \"Philadelphia Flyers\": \"darkorange\",\n",
    "    \"Washington Capitals\": \"navy\",\n",
    "    \"New York Rangers\": \"red\",\n",
    "    \"New York Islanders\": \"mediumblue\",\n",
    "    \"New Jersey Devils\": \"black\",\n",
    "    \"Buffalo Sabres\": \"navy\",\n",
    "    \"Boston Bruins\": \"gold\",\n",
    "    \"San Jose Sharks\": \"teal\",\n",
    "    \"Utah Mammoth\": \"skyblue\",\n",
    "    \"Los Angeles Kings\": \"black\",\n",
    "    \"Anaheim Ducks\": \"orangered\",\n",
    "    \"Seattle Kraken\": \"aquamarine\",\n",
    "    \"Vegas Golden Knights\": \"goldenrod\",\n",
    "    \"Tampa Bay Lightning\": \"navy\",\n",
    "    \"Florida Panthers\": \"crimson\",\n",
    "    \"Carolina Hurricanes\": \"red\"\n",
    "}\n",
    "\n",
    "mlb_color_map = {\n",
    "    \"St. Louis Cardinals\": \"red\",\n",
    "    \"Chicago Cubs\": \"blue\",\n",
    "    \"Chicago White Sox\": \"black\",\n",
    "    \"Kansas City Royals\": \"skyblue\",\n",
    "    \"New York Yankees\": \"black\",\n",
    "    \"Boston Red Sox\": \"firebrick\",\n",
    "    \"Athletics\": \"yellow\"\n",
    "}\n",
    "\n",
    "reset_county_styles(counties_geojson)\n",
    "# heatmap_counties(leagues, counties_geojson, \"MLB\", mlb_color_map)\n",
    "# heatmap_counties(leagues, counties_geojson, \"MLB\", mlb_color_map)     \n"
   ]
  },
  {
   "cell_type": "code",
   "execution_count": null,
   "id": "6ff833f5-ab96-4899-9eac-6428c49f18eb",
   "metadata": {
    "scrolled": true
   },
   "outputs": [],
   "source": [
    "from sportwarz import render_map\n",
    "\n",
    "render_map(leagues, counties_geojson, co_data_frame)"
   ]
  },
  {
   "cell_type": "code",
   "execution_count": null,
   "id": "9d8c548e-b31d-4a9d-bd07-9f826ab7282e",
   "metadata": {},
   "outputs": [],
   "source": [
    "import pandas as pd\n",
    "\n",
    "pd.set_option('display.float_format', lambda x: '%.0f' % x)\n",
    "for league in leagues.keys():\n",
    "    league_dfs = leagues[league][\"dataframes\"]\n",
    "    league_dfs[\"share_of_pop\"] = league_dfs['share'] * league_dfs[\"population\"]\n",
    "    group_cols = list(league_dfs.columns.difference(['team_name', 'share_of_pop']))\n",
    "    print(league_dfs[['team_name', 'share_of_pop']].groupby('team_name').sum().sort_values(by='share_of_pop',ascending=False)) #.sort_values(by=['team_name'])"
   ]
  },
  {
   "cell_type": "code",
   "execution_count": null,
   "id": "8fadd06d-dcc0-4d76-90f2-195551b24164",
   "metadata": {},
   "outputs": [],
   "source": []
  }
 ],
 "metadata": {
  "kernelspec": {
   "display_name": "Venv",
   "language": "python",
   "name": "venv"
  },
  "language_info": {
   "codemirror_mode": {
    "name": "ipython",
    "version": 3
   },
   "file_extension": ".py",
   "mimetype": "text/x-python",
   "name": "python",
   "nbconvert_exporter": "python",
   "pygments_lexer": "ipython3",
   "version": "3.12.3"
  }
 },
 "nbformat": 4,
 "nbformat_minor": 5
}
