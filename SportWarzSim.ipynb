{
 "cells": [
  {
   "cell_type": "code",
   "execution_count": null,
   "id": "4317a38e-1ee7-4057-ac23-2f7c5efe8907",
   "metadata": {},
   "outputs": [],
   "source": [
    "try:\n",
    "    import google.colab\n",
    "    !rm -rf /content/SportWarzSim\n",
    "    !git clone https://github.com/daltontf/SportWarzSim.git \n",
    "    %cd SportWarzSim\n",
    "except ImportError:\n",
    "    pass"
   ]
  },
  {
   "cell_type": "code",
   "execution_count": 1,
   "id": "389732ec-df63-4deb-bb7c-588f5b23295a",
   "metadata": {},
   "outputs": [],
   "source": [
    "from sportwarz import load_counties_geojson\n",
    "\n",
    "counties_geojson = load_counties_geojson()"
   ]
  },
  {
   "cell_type": "code",
   "execution_count": 2,
   "id": "4483c356-53c3-4383-a140-62e7b3694820",
   "metadata": {},
   "outputs": [],
   "source": [
    "from sportwarz import load_counties_data\n",
    "\n",
    "co_data_frame = load_counties_data(counties_geojson)"
   ]
  },
  {
   "cell_type": "code",
   "execution_count": 3,
   "id": "77878a56-706e-4e94-bb80-259de2872b22",
   "metadata": {},
   "outputs": [],
   "source": [
    "from sportwarz import load_leagues\n",
    "\n",
    "leagues = {\n",
    "    'NFL': {  },\n",
    "    'NBA': {  },\n",
    "    'MLB': {  },\n",
    "    'NHL': {  }, \n",
    "    'MLS': {  }\n",
    "}    \n",
    "\n",
    "load_leagues(leagues)"
   ]
  },
  {
   "cell_type": "code",
   "execution_count": 4,
   "id": "a9ff9268-3de2-4b07-b60e-06aeb936e07e",
   "metadata": {},
   "outputs": [],
   "source": [
    "from sportwarz import calculate_distances\n",
    "\n",
    "calculate_distances(leagues, co_data_frame) "
   ]
  },
  {
   "cell_type": "code",
   "execution_count": 5,
   "id": "16be4939-1c50-4f41-8de9-91734ecd2440",
   "metadata": {},
   "outputs": [],
   "source": [
    "from sportwarz import compute_shares\n",
    "        \n",
    "compute_shares(leagues, co_data_frame)  "
   ]
  },
  {
   "cell_type": "code",
   "execution_count": 6,
   "id": "4825e31d-3e51-466c-9030-0d0d5252c20a",
   "metadata": {},
   "outputs": [],
   "source": [
    "from sportwarz import compute_output_dataframes\n",
    "\n",
    "compute_output_dataframes(leagues, co_data_frame)       "
   ]
  },
  {
   "cell_type": "code",
   "execution_count": 8,
   "id": "6ff833f5-ab96-4899-9eac-6428c49f18eb",
   "metadata": {
    "scrolled": true
   },
   "outputs": [
    {
     "data": {
      "application/vnd.jupyter.widget-view+json": {
       "model_id": "bb14b105ad364cbfaa9a60de0a93ca26",
       "version_major": 2,
       "version_minor": 0
      },
      "text/plain": [
       "HTML(value='\\n        <style>\\n        .leaflet-popup-content-wrapper {\\n            background-color: black;\\…"
      ]
     },
     "metadata": {},
     "output_type": "display_data"
    },
    {
     "data": {
      "application/vnd.jupyter.widget-view+json": {
       "model_id": "8ca0879056b243ac86c69eef3c842d3f",
       "version_major": 2,
       "version_minor": 0
      },
      "text/plain": [
       "Map(center=[38.72728229549864, -96.9010842308538], controls=(ZoomControl(options=['position', 'zoom_in_text', …"
      ]
     },
     "execution_count": 8,
     "metadata": {},
     "output_type": "execute_result"
    }
   ],
   "source": [
    "from sportwarz import render_map, reset_county_styles, heatmap_counties\n",
    "\n",
    "reset_county_styles(counties_geojson)\n",
    "heatmap_counties(leagues, counties_geojson, \"NFL\")\n",
    "\n",
    "render_map(leagues, counties_geojson, co_data_frame)"
   ]
  },
  {
   "cell_type": "code",
   "execution_count": 7,
   "id": "8fadd06d-dcc0-4d76-90f2-195551b24164",
   "metadata": {},
   "outputs": [
    {
     "data": {
      "application/vnd.jupyter.widget-view+json": {
       "model_id": "9a86b31d711445689247a0493b6772d6",
       "version_major": 2,
       "version_minor": 0
      },
      "text/plain": [
       "HTML(value='\\n        <style>\\n        .leaflet-popup-content-wrapper {\\n            background-color: black;\\…"
      ]
     },
     "metadata": {},
     "output_type": "display_data"
    },
    {
     "data": {
      "application/vnd.jupyter.widget-view+json": {
       "model_id": "3a4329b1d85f4dca937331f9158c849a",
       "version_major": 2,
       "version_minor": 0
      },
      "text/plain": [
       "Map(center=[38.72728229549864, -96.9010842308538], controls=(ZoomControl(options=['position', 'zoom_in_text', …"
      ]
     },
     "execution_count": 7,
     "metadata": {},
     "output_type": "execute_result"
    }
   ],
   "source": [
    "from sportwarz import render_map, reset_county_styles, heatmap_counties\n",
    "\n",
    "reset_county_styles(counties_geojson)\n",
    "heatmap_counties(leagues, counties_geojson, \"MLB\") \n",
    "\n",
    "render_map(leagues, counties_geojson, co_data_frame)"
   ]
  },
  {
   "cell_type": "code",
   "execution_count": 9,
   "id": "71cf7bac-fbae-445e-859d-34b74ca2db61",
   "metadata": {},
   "outputs": [
    {
     "data": {
      "application/vnd.jupyter.widget-view+json": {
       "model_id": "7ae3db21d53942f98a68f231e89aef5a",
       "version_major": 2,
       "version_minor": 0
      },
      "text/plain": [
       "HTML(value='\\n        <style>\\n        .leaflet-popup-content-wrapper {\\n            background-color: black;\\…"
      ]
     },
     "metadata": {},
     "output_type": "display_data"
    },
    {
     "data": {
      "application/vnd.jupyter.widget-view+json": {
       "model_id": "171700aff5574ca6a3f33109e3ffd2dc",
       "version_major": 2,
       "version_minor": 0
      },
      "text/plain": [
       "Map(center=[38.72728229549864, -96.9010842308538], controls=(ZoomControl(options=['position', 'zoom_in_text', …"
      ]
     },
     "execution_count": 9,
     "metadata": {},
     "output_type": "execute_result"
    }
   ],
   "source": [
    "from sportwarz import render_map, reset_county_styles, heatmap_counties\n",
    "\n",
    "reset_county_styles(counties_geojson)\n",
    "heatmap_counties(leagues, counties_geojson, \"NBA\")\n",
    "\n",
    "render_map(leagues, counties_geojson, co_data_frame)"
   ]
  },
  {
   "cell_type": "code",
   "execution_count": 10,
   "id": "9625de13-7ea8-4977-94e2-4c26bb7493e3",
   "metadata": {},
   "outputs": [
    {
     "data": {
      "application/vnd.jupyter.widget-view+json": {
       "model_id": "a9a75f7b47dc4acdb0a7bd363f248b0c",
       "version_major": 2,
       "version_minor": 0
      },
      "text/plain": [
       "HTML(value='\\n        <style>\\n        .leaflet-popup-content-wrapper {\\n            background-color: black;\\…"
      ]
     },
     "metadata": {},
     "output_type": "display_data"
    },
    {
     "data": {
      "application/vnd.jupyter.widget-view+json": {
       "model_id": "5b6feb6465aa4066901d8d2d704ac14f",
       "version_major": 2,
       "version_minor": 0
      },
      "text/plain": [
       "Map(center=[38.72728229549864, -96.9010842308538], controls=(ZoomControl(options=['position', 'zoom_in_text', …"
      ]
     },
     "execution_count": 10,
     "metadata": {},
     "output_type": "execute_result"
    }
   ],
   "source": [
    "from sportwarz import render_map, reset_county_styles, heatmap_counties\n",
    "\n",
    "reset_county_styles(counties_geojson)\n",
    "heatmap_counties(leagues, counties_geojson, \"NHL\")\n",
    "\n",
    "render_map(leagues, counties_geojson, co_data_frame)"
   ]
  },
  {
   "cell_type": "code",
   "execution_count": 11,
   "id": "0b2c87fd-c71a-4bee-be14-e522b47cdce5",
   "metadata": {},
   "outputs": [
    {
     "data": {
      "application/vnd.jupyter.widget-view+json": {
       "model_id": "de35658793884e21bc75f944263330d6",
       "version_major": 2,
       "version_minor": 0
      },
      "text/plain": [
       "HTML(value='\\n        <style>\\n        .leaflet-popup-content-wrapper {\\n            background-color: black;\\…"
      ]
     },
     "metadata": {},
     "output_type": "display_data"
    },
    {
     "data": {
      "application/vnd.jupyter.widget-view+json": {
       "model_id": "d14275566dd14fd5b320172e7cd480d8",
       "version_major": 2,
       "version_minor": 0
      },
      "text/plain": [
       "Map(center=[38.72728229549864, -96.9010842308538], controls=(ZoomControl(options=['position', 'zoom_in_text', …"
      ]
     },
     "execution_count": 11,
     "metadata": {},
     "output_type": "execute_result"
    }
   ],
   "source": [
    "from sportwarz import render_map, reset_county_styles, heatmap_counties\n",
    "\n",
    "reset_county_styles(counties_geojson)\n",
    "heatmap_counties(leagues, counties_geojson, \"MLS\")\n",
    "\n",
    "render_map(leagues, counties_geojson, co_data_frame)"
   ]
  }
 ],
 "metadata": {
  "kernelspec": {
   "display_name": "Venv",
   "language": "python",
   "name": "venv"
  },
  "language_info": {
   "codemirror_mode": {
    "name": "ipython",
    "version": 3
   },
   "file_extension": ".py",
   "mimetype": "text/x-python",
   "name": "python",
   "nbconvert_exporter": "python",
   "pygments_lexer": "ipython3",
   "version": "3.12.3"
  }
 },
 "nbformat": 4,
 "nbformat_minor": 5
}
