{
 "cells": [
  {
   "cell_type": "code",
   "execution_count": null,
   "id": "4317a38e-1ee7-4057-ac23-2f7c5efe8907",
   "metadata": {},
   "outputs": [],
   "source": [
    "try:\n",
    "    import google.colab\n",
    "    !rm -rf /content/SportWarzSim\n",
    "    !git clone https://github.com/daltontf/SportWarzSim.git \n",
    "    %cd SportWarzSim\n",
    "except ImportError:\n",
    "    pass"
   ]
  },
  {
   "cell_type": "code",
   "execution_count": null,
   "id": "389732ec-df63-4deb-bb7c-588f5b23295a",
   "metadata": {},
   "outputs": [],
   "source": [
    "from sportwarz import load_counties_geojson\n",
    "\n",
    "counties_geojson = load_counties_geojson()"
   ]
  },
  {
   "cell_type": "code",
   "execution_count": null,
   "id": "4483c356-53c3-4383-a140-62e7b3694820",
   "metadata": {},
   "outputs": [],
   "source": [
    "from sportwarz import load_counties_data\n",
    "\n",
    "co_data_frame = load_counties_data(counties_geojson)"
   ]
  },
  {
   "cell_type": "code",
   "execution_count": null,
   "id": "77878a56-706e-4e94-bb80-259de2872b22",
   "metadata": {},
   "outputs": [],
   "source": [
    "from sportwarz import load_leagues\n",
    "\n",
    "leagues = {\n",
    "    'NFL': {  },\n",
    "    'NBA': {  },\n",
    "    'MLB': {  },\n",
    "    'NHL': {  }, \n",
    "    'MLS': {  }\n",
    "}    \n",
    "\n",
    "load_leagues(leagues)"
   ]
  },
  {
   "cell_type": "code",
   "execution_count": null,
   "id": "a9ff9268-3de2-4b07-b60e-06aeb936e07e",
   "metadata": {},
   "outputs": [],
   "source": [
    "from sportwarz import calculate_distances\n",
    "\n",
    "calculate_distances(leagues, co_data_frame) "
   ]
  },
  {
   "cell_type": "code",
   "execution_count": null,
   "id": "16be4939-1c50-4f41-8de9-91734ecd2440",
   "metadata": {},
   "outputs": [],
   "source": [
    "from sportwarz import compute_shares\n",
    "        \n",
    "compute_shares(leagues, co_data_frame)  "
   ]
  },
  {
   "cell_type": "code",
   "execution_count": null,
   "id": "4825e31d-3e51-466c-9030-0d0d5252c20a",
   "metadata": {},
   "outputs": [],
   "source": [
    "from sportwarz import compute_output_dataframes\n",
    "\n",
    "compute_output_dataframes(leagues, co_data_frame)       "
   ]
  },
  {
   "cell_type": "code",
   "execution_count": null,
   "id": "6ff833f5-ab96-4899-9eac-6428c49f18eb",
   "metadata": {
    "scrolled": true
   },
   "outputs": [],
   "source": [
    "from sportwarz import render_map, reset_county_styles, heatmap_counties\n",
    "\n",
    "reset_county_styles(counties_geojson)\n",
    "heatmap_counties(leagues, counties_geojson, \"NFL\")\n",
    "\n",
    "render_map(leagues, \"NFL\", counties_geojson, co_data_frame)"
   ]
  },
  {
   "cell_type": "code",
   "execution_count": null,
   "id": "8fadd06d-dcc0-4d76-90f2-195551b24164",
   "metadata": {},
   "outputs": [],
   "source": [
    "from sportwarz import render_map, reset_county_styles, heatmap_counties\n",
    "\n",
    "reset_county_styles(counties_geojson)\n",
    "heatmap_counties(leagues, counties_geojson, \"MLB\") \n",
    "\n",
    "render_map(leagues, \"MLB\", counties_geojson, co_data_frame)"
   ]
  },
  {
   "cell_type": "code",
   "execution_count": null,
   "id": "71cf7bac-fbae-445e-859d-34b74ca2db61",
   "metadata": {},
   "outputs": [],
   "source": [
    "from sportwarz import render_map, reset_county_styles, heatmap_counties\n",
    "\n",
    "reset_county_styles(counties_geojson)\n",
    "heatmap_counties(leagues, counties_geojson, \"NBA\")\n",
    "\n",
    "render_map(leagues, \"NBA\", counties_geojson, co_data_frame)"
   ]
  },
  {
   "cell_type": "code",
   "execution_count": null,
   "id": "9625de13-7ea8-4977-94e2-4c26bb7493e3",
   "metadata": {},
   "outputs": [],
   "source": [
    "from sportwarz import render_map, reset_county_styles, heatmap_counties\n",
    "\n",
    "reset_county_styles(counties_geojson)\n",
    "heatmap_counties(leagues, counties_geojson, \"NHL\")\n",
    "\n",
    "render_map(leagues, \"NHL\", counties_geojson, co_data_frame)"
   ]
  },
  {
   "cell_type": "code",
   "execution_count": null,
   "id": "0b2c87fd-c71a-4bee-be14-e522b47cdce5",
   "metadata": {},
   "outputs": [],
   "source": [
    "from sportwarz import render_map, reset_county_styles, heatmap_counties\n",
    "\n",
    "reset_county_styles(counties_geojson)\n",
    "heatmap_counties(leagues, counties_geojson, \"MLS\")\n",
    "\n",
    "render_map(leagues, \"MLS\", counties_geojson, co_data_frame)"
   ]
  },
  {
   "cell_type": "code",
   "execution_count": null,
   "id": "fd710dfa-b7f6-407a-9a0f-a23aff55c0d9",
   "metadata": {},
   "outputs": [],
   "source": []
  },
  {
   "cell_type": "code",
   "execution_count": null,
   "id": "8db7fc4c-62dc-409c-9cb3-8bb3a63432ba",
   "metadata": {},
   "outputs": [],
   "source": []
  }
 ],
 "metadata": {
  "kernelspec": {
   "display_name": "Venv",
   "language": "python",
   "name": "venv"
  },
  "language_info": {
   "codemirror_mode": {
    "name": "ipython",
    "version": 3
   },
   "file_extension": ".py",
   "mimetype": "text/x-python",
   "name": "python",
   "nbconvert_exporter": "python",
   "pygments_lexer": "ipython3",
   "version": "3.12.3"
  }
 },
 "nbformat": 4,
 "nbformat_minor": 5
}
